{
 "cells": [
  {
   "cell_type": "code",
   "execution_count": 2,
   "id": "78097bb7",
   "metadata": {},
   "outputs": [
    {
     "name": "stdout",
     "output_type": "stream",
     "text": [
      "Collecting beautifulsoup4\n",
      "  Downloading beautifulsoup4-4.13.4-py3-none-any.whl (187 kB)\n",
      "\u001b[2K     \u001b[90m━━━━━━━━━━━━━━━━━━━━━━━━━━━━━━━━━━━━━━━\u001b[0m \u001b[32m187.3/187.3 KB\u001b[0m \u001b[31m3.5 MB/s\u001b[0m eta \u001b[36m0:00:00\u001b[0ma \u001b[36m0:00:01\u001b[0m\n",
      "\u001b[?25hCollecting soupsieve>1.2\n",
      "  Downloading soupsieve-2.7-py3-none-any.whl (36 kB)\n",
      "Requirement already satisfied: typing-extensions>=4.0.0 in /home/isss11/personal-projects/ai-political-alignment/.env/lib/python3.10/site-packages (from beautifulsoup4) (4.13.1)\n",
      "Installing collected packages: soupsieve, beautifulsoup4\n",
      "Successfully installed beautifulsoup4-4.13.4 soupsieve-2.7\n",
      "Note: you may need to restart the kernel to use updated packages.\n"
     ]
    }
   ],
   "source": [
    "%pip install beautifulsoup4"
   ]
  },
  {
   "cell_type": "code",
   "execution_count": 9,
   "id": "4c5d7670",
   "metadata": {},
   "outputs": [],
   "source": [
    "from bs4 import BeautifulSoup\n",
    "import pandas as pd\n",
    "\n",
    "topics = [\"Climate change, energy\", \"Cost of living\", \"Defence\", \"Foreign policy\", \"Government spending\", \"Housing\", \"Immigration\", \"Infrastructure\", \"U.S. relations, tariffs\"]\n",
    "parties = [\"Liberal\", \"Conservative\", \"New Democrat\", \"Bloc Québécois\", \"Green\", \"People's Party\"]\n",
    "party_ids = {\"Liberal\": 0, \"Conservative\": 1, \"New Democrat\": 2, \"Bloc Québécois\": 3, \"Green\": 4, \"People's Party\": 5}\n",
    "\n",
    "scraped_parties = []\n",
    "scraped_labels = []\n",
    "scraped_topics = []\n",
    "scraped_texts = []\n",
    "\n",
    "with open(\"../data/2025/platform-comparison.html\") as fp:\n",
    "    soup = BeautifulSoup(fp)\n",
    "    fetched_topics = soup.find_all(\"div\", class_=\"an-issue\")\n",
    "    \n",
    "    for topic_index, topic in enumerate(fetched_topics):\n",
    "        paragraphs = topic.find_all(\"p\")\n",
    "        \n",
    "        for party_index, party in enumerate(parties):\n",
    "            scraped_parties.append(party)\n",
    "            scraped_labels.append(party_ids[party])\n",
    "            scraped_topics.append(topics[topic_index])\n",
    "            scraped_texts.append(paragraphs[party_index].text)\n",
    "            \n",
    "df = pd.DataFrame({\"party\": scraped_parties, \"topic\": scraped_topics, \"text\": scraped_texts, \"label\": scraped_labels})\n",
    "            "
   ]
  },
  {
   "cell_type": "code",
   "execution_count": null,
   "id": "6de41203",
   "metadata": {},
   "outputs": [
    {
     "name": "stdout",
     "output_type": "stream",
     "text": [
      "Training model...\n",
      "Finished training.\n",
      "Accuracy: 0.45454545454545453.\n"
     ]
    },
    {
     "data": {
      "text/plain": [
       "['../model-weights/svc_model_pipeline.joblib']"
      ]
     },
     "execution_count": 41,
     "metadata": {},
     "output_type": "execute_result"
    }
   ],
   "source": [
    "# Bag of Words\n",
    "from sklearn.svm import SVC\n",
    "from sklearn.metrics import accuracy_score\n",
    "from sklearn.model_selection import train_test_split\n",
    "from sklearn.feature_extraction.text import CountVectorizer\n",
    "import joblib\n",
    "from sklearn.pipeline import Pipeline\n",
    "\n",
    "# Define the pipeline\n",
    "pipeline = Pipeline([\n",
    "    ('vectorizer', CountVectorizer(lowercase=True)),  # Vectorizer step\n",
    "    ('svm', SVC(kernel='linear', decision_function_shape='ovo'))  # SVM classifier step\n",
    "])\n",
    "\n",
    "# Split the data\n",
    "x_train, x_test, y_train, y_test = train_test_split(df['text'], df['party'], test_size=0.2)\n",
    "\n",
    "# Train the model with the pipeline\n",
    "print(\"Training model...\")\n",
    "pipeline.fit(x_train, y_train)\n",
    "print(\"Finished training.\")\n",
    "\n",
    "# Test the model\n",
    "y_pred = pipeline.predict(x_test)\n",
    "accuracy = accuracy_score(y_test, y_pred)\n",
    "\n",
    "print(f\"Accuracy: {accuracy}.\")\n",
    "\n",
    "# Save the entire pipeline\n",
    "joblib.dump(pipeline, \"../model-weights/svc_model_pipeline.joblib\")"
   ]
  },
  {
   "cell_type": "code",
   "execution_count": 25,
   "id": "fe452251",
   "metadata": {},
   "outputs": [
    {
     "name": "stdout",
     "output_type": "stream",
     "text": [
      "Predicted party: ['Green']\n"
     ]
    }
   ],
   "source": [
    "# Bag of Words - Predictions\n",
    "\n",
    "input_text = [\"Axe the tax. STop the crime. Build the homes and fix the budget.\"]\n",
    "\n",
    "pred = pipeline.predict(input_text)\n",
    "\n",
    "print(f\"Predicted party: {pred}\")"
   ]
  }
 ],
 "metadata": {
  "kernelspec": {
   "display_name": "Python 3",
   "language": "python",
   "name": "python3"
  },
  "language_info": {
   "codemirror_mode": {
    "name": "ipython",
    "version": 3
   },
   "file_extension": ".py",
   "mimetype": "text/x-python",
   "name": "python",
   "nbconvert_exporter": "python",
   "pygments_lexer": "ipython3",
   "version": "3.10.12"
  }
 },
 "nbformat": 4,
 "nbformat_minor": 5
}
