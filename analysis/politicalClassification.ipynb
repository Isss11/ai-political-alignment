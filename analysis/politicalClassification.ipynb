{
 "cells": [
  {
   "cell_type": "code",
   "execution_count": 8,
   "metadata": {},
   "outputs": [
    {
     "name": "stdout",
     "output_type": "stream",
     "text": [
      "Requirement already satisfied: pypdf in /home/isss11/personal-projects/ai-political-alignment/.env/lib/python3.10/site-packages (5.4.0)\n",
      "Requirement already satisfied: typing_extensions>=4.0 in /home/isss11/personal-projects/ai-political-alignment/.env/lib/python3.10/site-packages (from pypdf) (4.12.2)\n",
      "Note: you may need to restart the kernel to use updated packages.\n",
      "Requirement already satisfied: joblib in /home/isss11/personal-projects/ai-political-alignment/.env/lib/python3.10/site-packages (1.4.2)\n",
      "Note: you may need to restart the kernel to use updated packages.\n",
      "Requirement already satisfied: pandas in /home/isss11/personal-projects/ai-political-alignment/.env/lib/python3.10/site-packages (2.2.3)\n",
      "Requirement already satisfied: pytz>=2020.1 in /home/isss11/personal-projects/ai-political-alignment/.env/lib/python3.10/site-packages (from pandas) (2025.1)\n",
      "Requirement already satisfied: python-dateutil>=2.8.2 in /home/isss11/personal-projects/ai-political-alignment/.env/lib/python3.10/site-packages (from pandas) (2.9.0.post0)\n",
      "Requirement already satisfied: tzdata>=2022.7 in /home/isss11/personal-projects/ai-political-alignment/.env/lib/python3.10/site-packages (from pandas) (2025.1)\n",
      "Requirement already satisfied: numpy>=1.22.4 in /home/isss11/personal-projects/ai-political-alignment/.env/lib/python3.10/site-packages (from pandas) (2.2.4)\n",
      "Requirement already satisfied: six>=1.5 in /home/isss11/personal-projects/ai-political-alignment/.env/lib/python3.10/site-packages (from python-dateutil>=2.8.2->pandas) (1.17.0)\n",
      "Note: you may need to restart the kernel to use updated packages.\n",
      "Collecting scikit-learn\n",
      "  Downloading scikit_learn-1.6.1-cp310-cp310-manylinux_2_17_x86_64.manylinux2014_x86_64.whl (13.5 MB)\n",
      "\u001b[2K     \u001b[90m━━━━━━━━━━━━━━━━━━━━━━━━━━━━━━━━━━━━━━━━\u001b[0m \u001b[32m13.5/13.5 MB\u001b[0m \u001b[31m4.7 MB/s\u001b[0m eta \u001b[36m0:00:00\u001b[0m00:01\u001b[0m00:01\u001b[0m\n",
      "\u001b[?25hRequirement already satisfied: numpy>=1.19.5 in /home/isss11/personal-projects/ai-political-alignment/.env/lib/python3.10/site-packages (from scikit-learn) (2.2.4)\n",
      "Requirement already satisfied: joblib>=1.2.0 in /home/isss11/personal-projects/ai-political-alignment/.env/lib/python3.10/site-packages (from scikit-learn) (1.4.2)\n",
      "Collecting threadpoolctl>=3.1.0\n",
      "  Downloading threadpoolctl-3.6.0-py3-none-any.whl (18 kB)\n",
      "Collecting scipy>=1.6.0\n",
      "  Downloading scipy-1.15.2-cp310-cp310-manylinux_2_17_x86_64.manylinux2014_x86_64.whl (37.6 MB)\n",
      "\u001b[2K     \u001b[90m━━━━━━━━━━━━━━━━━━━━━━━━━━━━━━━━━━━━━━━━\u001b[0m \u001b[32m37.6/37.6 MB\u001b[0m \u001b[31m4.7 MB/s\u001b[0m eta \u001b[36m0:00:00\u001b[0m00:01\u001b[0m00:01\u001b[0m\n",
      "\u001b[?25hInstalling collected packages: threadpoolctl, scipy, scikit-learn\n",
      "Successfully installed scikit-learn-1.6.1 scipy-1.15.2 threadpoolctl-3.6.0\n",
      "Note: you may need to restart the kernel to use updated packages.\n"
     ]
    }
   ],
   "source": [
    "%pip install pypdf\n",
    "%pip install joblib\n",
    "%pip install pandas\n",
    "%pip install scikit-learn"
   ]
  },
  {
   "cell_type": "code",
   "execution_count": 9,
   "metadata": {},
   "outputs": [],
   "source": [
    "from pypdf import PdfReader\n",
    "import re\n",
    "import pandas as pd\n",
    "\n",
    "# Data extraction\n",
    "parties = ['liberal', 'conservative', 'ndp', 'green']\n",
    "\n",
    "not_alpha_regex = r\"[^a-zA-Z]\"\n",
    "not_main_chars_regex = r\"[^a-zA-Z\\s.]\"\n",
    "excess_spaces_regex = r\"\\s+\"\n",
    "\n",
    "party_labels = []\n",
    "texts = []\n",
    "\n",
    "def hasAlphabeticalChars(string):\n",
    "    return len(re.sub(not_alpha_regex, \"\", string)) > 0\n",
    "\n",
    "for party in parties:\n",
    "    reader = PdfReader(f\"../data/platforms/{party}.pdf\")\n",
    "\n",
    "    for page in reader.pages:\n",
    "        raw_text = page.extract_text()\n",
    "        cleaned_text = re.sub(not_main_chars_regex, \"\", raw_text)\n",
    "        cleaned_text = re.sub(excess_spaces_regex, \" \", cleaned_text)\n",
    "        \n",
    "        page_sentences = list(filter(hasAlphabeticalChars, cleaned_text.split('.')))\n",
    "        \n",
    "        # Appending sentences to list\n",
    "        for passage in page_sentences:\n",
    "            party_labels.append(party)\n",
    "            texts.append(passage)\n",
    "\n",
    "sentences_data = {'party': party_labels, 'text': texts}\n",
    "\n",
    "sentences = pd.DataFrame(sentences_data)"
   ]
  },
  {
   "cell_type": "code",
   "execution_count": 10,
   "metadata": {},
   "outputs": [
    {
     "name": "stdout",
     "output_type": "stream",
     "text": [
      "Training model...\n",
      "[LibSVM].......*....*\n",
      "optimization finished, #iter = 11355\n",
      "obj = -202.597534, rho = 0.398861\n",
      "nSV = 1347, nBSV = 77\n",
      "............*......*\n",
      "optimization finished, #iter = 18773\n",
      "obj = -264.992338, rho = -0.075298\n",
      "nSV = 1554, nBSV = 106\n",
      "...........*....*\n",
      "optimization finished, #iter = 15405\n",
      "obj = -225.357678, rho = -0.425747\n",
      "nSV = 1378, nBSV = 110\n",
      "........*....*\n",
      "optimization finished, #iter = 12607\n",
      "obj = -205.902296, rho = -0.421229\n",
      "nSV = 1336, nBSV = 82\n",
      "......*..*\n",
      "optimization finished, #iter = 8800\n",
      "obj = -167.081914, rho = -0.685648\n",
      "nSV = 1087, nBSV = 89\n",
      "..........*.......*\n",
      "optimization finished, #iter = 17029\n",
      "obj = -207.349640, rho = -0.394552\n",
      "nSV = 1330, nBSV = 93\n",
      "Total nSV = 3898\n",
      "Finished training.\n",
      "Accuracy: 0.6676258992805756.\n"
     ]
    },
    {
     "data": {
      "text/plain": [
       "['../model-weights/svc_model_pipeline.joblib']"
      ]
     },
     "execution_count": 10,
     "metadata": {},
     "output_type": "execute_result"
    }
   ],
   "source": [
    "from sklearn.svm import SVC\n",
    "from sklearn.metrics import accuracy_score\n",
    "from sklearn.model_selection import train_test_split\n",
    "from sklearn.feature_extraction.text import CountVectorizer\n",
    "import joblib\n",
    "from sklearn.pipeline import Pipeline\n",
    "\n",
    "# Define the pipeline\n",
    "pipeline = Pipeline([\n",
    "    ('vectorizer', CountVectorizer(lowercase=True)),  # Vectorizer step\n",
    "    ('svm', SVC(verbose=True, kernel='linear', decision_function_shape='ovo'))  # SVM classifier step\n",
    "])\n",
    "\n",
    "# Split the data\n",
    "x_train, x_test, y_train, y_test = train_test_split(sentences['text'], sentences['party'], test_size=0.2)\n",
    "\n",
    "# Train the model with the pipeline\n",
    "print(\"Training model...\")\n",
    "pipeline.fit(x_train, y_train)\n",
    "print(\"Finished training.\")\n",
    "\n",
    "# Test the model\n",
    "y_pred = pipeline.predict(x_test)\n",
    "accuracy = accuracy_score(y_test, y_pred)\n",
    "\n",
    "print(f\"Accuracy: {accuracy}.\")\n",
    "\n",
    "# Save the entire pipeline\n",
    "joblib.dump(pipeline, \"../model-weights/svc_model_pipeline.joblib\")"
   ]
  },
  {
   "cell_type": "code",
   "execution_count": null,
   "metadata": {},
   "outputs": [],
   "source": [
    "# TODO: Implement Bert Transformer Model"
   ]
  },
  {
   "cell_type": "code",
   "execution_count": 11,
   "metadata": {},
   "outputs": [
    {
     "name": "stdout",
     "output_type": "stream",
     "text": [
      "Predicted party: ['conservative']\n"
     ]
    }
   ],
   "source": [
    "# Make predictions with model\n",
    "input_text = [\"The Conservative Party is focused on restoring Canada's economy and ensuring that all Canadians have the opportunity to succeed. We believe in lower taxes to put more money back in the pockets of hard-working families and businesses, which will help fuel growth and job creation. Our plan for climate action emphasizes innovation and technology rather than imposing costly carbon taxes. We're committed to maintaining a strong national defense, securing our borders, and standing up for Canadian values. The Conservatives will invest in building infrastructure that creates jobs while ensuring that we control government spending and return to fiscal responsibility.\"]\n",
    "\n",
    "pred = pipeline.predict(input_text)\n",
    "\n",
    "print(f\"Predicted party: {pred}\")"
   ]
  }
 ],
 "metadata": {
  "kernelspec": {
   "display_name": ".env",
   "language": "python",
   "name": "python3"
  },
  "language_info": {
   "codemirror_mode": {
    "name": "ipython",
    "version": 3
   },
   "file_extension": ".py",
   "mimetype": "text/x-python",
   "name": "python",
   "nbconvert_exporter": "python",
   "pygments_lexer": "ipython3",
   "version": "3.10.12"
  }
 },
 "nbformat": 4,
 "nbformat_minor": 2
}
