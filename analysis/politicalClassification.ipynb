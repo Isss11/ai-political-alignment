{
 "cells": [
  {
   "cell_type": "code",
   "execution_count": 1,
   "metadata": {},
   "outputs": [
    {
     "name": "stdout",
     "output_type": "stream",
     "text": [
      "Note: you may need to restart the kernel to use updated packages.Requirement already satisfied: pypdf in c:\\users\\isss1\\appdata\\local\\programs\\python\\python311\\lib\\site-packages (5.1.0)\n",
      "\n"
     ]
    },
    {
     "name": "stderr",
     "output_type": "stream",
     "text": [
      "\n",
      "[notice] A new release of pip is available: 24.2 -> 24.3.1\n",
      "[notice] To update, run: python.exe -m pip install --upgrade pip\n"
     ]
    },
    {
     "name": "stdout",
     "output_type": "stream",
     "text": [
      "Requirement already satisfied: joblib in c:\\users\\isss1\\appdata\\local\\programs\\python\\python311\\lib\\site-packages (1.4.0)\n",
      "Note: you may need to restart the kernel to use updated packages.\n"
     ]
    },
    {
     "name": "stderr",
     "output_type": "stream",
     "text": [
      "\n",
      "[notice] A new release of pip is available: 24.2 -> 24.3.1\n",
      "[notice] To update, run: python.exe -m pip install --upgrade pip\n"
     ]
    }
   ],
   "source": [
    "%pip install pypdf\n",
    "%pip install joblib"
   ]
  },
  {
   "cell_type": "code",
   "execution_count": 2,
   "metadata": {},
   "outputs": [],
   "source": [
    "from pypdf import PdfReader\n",
    "import re\n",
    "import pandas as pd\n",
    "\n",
    "# Data extraction\n",
    "parties = ['liberal', 'conservative', 'ndp', 'green']\n",
    "\n",
    "not_alpha_regex = r\"[^a-zA-Z]\"\n",
    "not_main_chars_regex = r\"[^a-zA-Z\\s.]\"\n",
    "excess_spaces_regex = r\"\\s+\"\n",
    "\n",
    "party_labels = []\n",
    "texts = []\n",
    "\n",
    "def hasAlphabeticalChars(string):\n",
    "    return len(re.sub(not_alpha_regex, \"\", string)) > 0\n",
    "\n",
    "for party in parties:\n",
    "    reader = PdfReader(f\"../data/platforms/{party}.pdf\")\n",
    "\n",
    "    for page in reader.pages:\n",
    "        raw_text = page.extract_text()\n",
    "        cleaned_text = re.sub(not_main_chars_regex, \"\", raw_text)\n",
    "        cleaned_text = re.sub(excess_spaces_regex, \" \", cleaned_text)\n",
    "        \n",
    "        page_sentences = list(filter(hasAlphabeticalChars, cleaned_text.split('.')))\n",
    "        \n",
    "        # Appending sentences to list\n",
    "        for passage in page_sentences:\n",
    "            party_labels.append(party)\n",
    "            texts.append(passage)\n",
    "\n",
    "sentences_data = {'party': party_labels, 'text': texts}\n",
    "\n",
    "sentences = pd.DataFrame(sentences_data)"
   ]
  },
  {
   "cell_type": "code",
   "execution_count": 3,
   "metadata": {},
   "outputs": [
    {
     "name": "stdout",
     "output_type": "stream",
     "text": [
      "Training model...\n",
      "[LibSVM]Finished training.\n",
      "Accuracy: 0.6633093525179856.\n"
     ]
    },
    {
     "data": {
      "text/plain": [
       "['../model-weights/svc_model_pipeline.joblib']"
      ]
     },
     "execution_count": 3,
     "metadata": {},
     "output_type": "execute_result"
    }
   ],
   "source": [
    "from sklearn.svm import SVC\n",
    "from sklearn.metrics import accuracy_score\n",
    "from sklearn.model_selection import train_test_split\n",
    "from sklearn.feature_extraction.text import CountVectorizer\n",
    "import joblib\n",
    "from sklearn.pipeline import Pipeline\n",
    "\n",
    "# Define the pipeline\n",
    "pipeline = Pipeline([\n",
    "    ('vectorizer', CountVectorizer(lowercase=True)),  # Vectorizer step\n",
    "    ('svm', SVC(verbose=True, kernel='linear', decision_function_shape='ovo'))  # SVM classifier step\n",
    "])\n",
    "\n",
    "# Split the data\n",
    "x_train, x_test, y_train, y_test = train_test_split(sentences['text'], sentences['party'], test_size=0.2)\n",
    "\n",
    "# Train the model with the pipeline\n",
    "print(\"Training model...\")\n",
    "pipeline.fit(x_train, y_train)\n",
    "print(\"Finished training.\")\n",
    "\n",
    "# Test the model\n",
    "y_pred = pipeline.predict(x_test)\n",
    "accuracy = accuracy_score(y_test, y_pred)\n",
    "\n",
    "print(f\"Accuracy: {accuracy}.\")\n",
    "\n",
    "# Save the entire pipeline\n",
    "joblib.dump(pipeline, \"../model-weights/svc_model_pipeline.joblib\")"
   ]
  },
  {
   "cell_type": "code",
   "execution_count": 11,
   "metadata": {},
   "outputs": [
    {
     "name": "stdout",
     "output_type": "stream",
     "text": [
      "Predicted party: ['conservative']\n"
     ]
    }
   ],
   "source": [
    "# Make predictions with model\n",
    "input_text = [\"The Conservative Party is focused on restoring Canada's economy and ensuring that all Canadians have the opportunity to succeed. We believe in lower taxes to put more money back in the pockets of hard-working families and businesses, which will help fuel growth and job creation. Our plan for climate action emphasizes innovation and technology rather than imposing costly carbon taxes. We're committed to maintaining a strong national defense, securing our borders, and standing up for Canadian values. The Conservatives will invest in building infrastructure that creates jobs while ensuring that we control government spending and return to fiscal responsibility.\"]\n",
    "\n",
    "pred = pipeline.predict(input_text)\n",
    "\n",
    "print(f\"Predicted party: {pred}\")"
   ]
  }
 ],
 "metadata": {
  "kernelspec": {
   "display_name": "Python 3",
   "language": "python",
   "name": "python3"
  },
  "language_info": {
   "codemirror_mode": {
    "name": "ipython",
    "version": 3
   },
   "file_extension": ".py",
   "mimetype": "text/x-python",
   "name": "python",
   "nbconvert_exporter": "python",
   "pygments_lexer": "ipython3",
   "version": "3.11.1"
  }
 },
 "nbformat": 4,
 "nbformat_minor": 2
}
