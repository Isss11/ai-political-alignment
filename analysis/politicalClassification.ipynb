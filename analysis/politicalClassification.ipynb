{
 "cells": [
  {
   "cell_type": "code",
   "execution_count": 1,
   "metadata": {},
   "outputs": [
    {
     "name": "stdout",
     "output_type": "stream",
     "text": [
      "Collecting pypdf\n",
      "  Downloading pypdf-5.1.0-py3-none-any.whl.metadata (7.2 kB)\n",
      "Downloading pypdf-5.1.0-py3-none-any.whl (297 kB)\n",
      "Installing collected packages: pypdf\n",
      "Successfully installed pypdf-5.1.0\n",
      "Note: you may need to restart the kernel to use updated packages.\n"
     ]
    }
   ],
   "source": [
    "%pip install pypdf"
   ]
  },
  {
   "cell_type": "code",
   "execution_count": 1,
   "metadata": {},
   "outputs": [],
   "source": [
    "from pypdf import PdfReader\n",
    "import re\n",
    "import pandas as pd\n",
    "\n",
    "# Data extraction\n",
    "parties = ['liberal', 'conservative', 'ndp', 'green']\n",
    "\n",
    "not_alpha_regex = r\"[^a-zA-Z]\"\n",
    "not_main_chars_regex = r\"[^a-zA-Z\\s.]\"\n",
    "excess_spaces_regex = r\"\\s+\"\n",
    "\n",
    "party_labels = []\n",
    "texts = []\n",
    "\n",
    "def hasAlphabeticalChars(string):\n",
    "    return len(re.sub(not_alpha_regex, \"\", string)) > 0\n",
    "\n",
    "for party in parties:\n",
    "    reader = PdfReader(f\"../data/platforms/{party}.pdf\")\n",
    "\n",
    "    for page in reader.pages:\n",
    "        raw_text = page.extract_text()\n",
    "        cleaned_text = re.sub(not_main_chars_regex, \"\", raw_text)\n",
    "        cleaned_text = re.sub(excess_spaces_regex, \" \", cleaned_text)\n",
    "        \n",
    "        page_sentences = list(filter(hasAlphabeticalChars, cleaned_text.split('.')))\n",
    "        \n",
    "        # Appending sentences to list\n",
    "        for passage in page_sentences:\n",
    "            party_labels.append(party)\n",
    "            texts.append(passage)\n",
    "\n",
    "sentences_data = {'party': party_labels, 'text': texts}\n",
    "\n",
    "sentences = pd.DataFrame(sentences_data)"
   ]
  },
  {
   "cell_type": "code",
   "execution_count": null,
   "metadata": {},
   "outputs": [],
   "source": []
  },
  {
   "cell_type": "code",
   "execution_count": 2,
   "metadata": {},
   "outputs": [
    {
     "name": "stdout",
     "output_type": "stream",
     "text": [
      "Training model...\n",
      "[LibSVM]Finished training.\n",
      "Accuracy: 0.6496402877697842.\n"
     ]
    }
   ],
   "source": [
    "from sklearn.svm import SVC\n",
    "from sklearn.metrics import accuracy_score\n",
    "from sklearn.model_selection import train_test_split\n",
    "from sklearn.feature_extraction.text import CountVectorizer\n",
    "\n",
    "# Vectorizing input\n",
    "sentence_vectorizor = CountVectorizer(lowercase=True)\n",
    "sentence_vectors = sentence_vectorizor.fit_transform(sentences['text'])\n",
    "\n",
    "# Training model\n",
    "x_train, x_test, y_train, y_test = train_test_split(sentence_vectors, sentences['party'], test_size=0.2)\n",
    "\n",
    "sentences_svm = SVC(verbose=True, kernel='linear', decision_function_shape='ovo')\n",
    "\n",
    "print(\"Training model...\")\n",
    "sentences_svm.fit(x_train, y_train)\n",
    "print(\"Finished training.\")\n",
    "\n",
    "# Testing model\n",
    "y_pred = sentences_svm.predict(x_test)\n",
    "accuracy = accuracy_score(y_test, y_pred)\n",
    "\n",
    "print(f\"Accuracy: {accuracy}.\")"
   ]
  },
  {
   "cell_type": "code",
   "execution_count": 10,
   "metadata": {},
   "outputs": [
    {
     "name": "stdout",
     "output_type": "stream",
     "text": [
      "Predicted party: ['conservative']\n"
     ]
    }
   ],
   "source": [
    "# Make predictions with model\n",
    "input_text = [\"The Conservative Party is focused on restoring Canada's economy and ensuring that all Canadians have the opportunity to succeed. We believe in lower taxes to put more money back in the pockets of hard-working families and businesses, which will help fuel growth and job creation. Our plan for climate action emphasizes innovation and technology rather than imposing costly carbon taxes. We're committed to maintaining a strong national defense, securing our borders, and standing up for Canadian values. The Conservatives will invest in building infrastructure that creates jobs while ensuring that we control government spending and return to fiscal responsibility.\"]\n",
    "\n",
    "input_vector = sentence_vectorizor.transform(input_text)\n",
    "pred = sentences_svm.predict(input_vector)\n",
    "\n",
    "print(f\"Predicted party: {pred}\")"
   ]
  }
 ],
 "metadata": {
  "kernelspec": {
   "display_name": "Python 3",
   "language": "python",
   "name": "python3"
  },
  "language_info": {
   "codemirror_mode": {
    "name": "ipython",
    "version": 3
   },
   "file_extension": ".py",
   "mimetype": "text/x-python",
   "name": "python",
   "nbconvert_exporter": "python",
   "pygments_lexer": "ipython3",
   "version": "3.11.9"
  }
 },
 "nbformat": 4,
 "nbformat_minor": 2
}
